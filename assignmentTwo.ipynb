{
 "cells": [
  {
   "cell_type": "markdown",
   "metadata": {},
   "source": [
    "![QuestionOne](images/q1.png)"
   ]
  },
  {
   "cell_type": "code",
   "execution_count": 1,
   "metadata": {},
   "outputs": [
    {
     "data": {
      "text/latex": [
       "$\\displaystyle 1$"
      ],
      "text/plain": [
       "1"
      ]
     },
     "execution_count": 1,
     "metadata": {},
     "output_type": "execute_result"
    }
   ],
   "source": [
    "import sympy as sp\n",
    "x = sp.Symbol('x')\n",
    "sp.integrate(x*sp.sin(x), (x, 0, sp.pi/2))"
   ]
  },
  {
   "cell_type": "markdown",
   "metadata": {},
   "source": [
    "![QuestionTwo](images/q2.png)"
   ]
  },
  {
   "cell_type": "code",
   "execution_count": 2,
   "metadata": {},
   "outputs": [
    {
     "name": "stdout",
     "output_type": "stream",
     "text": [
      "⎡1  0⎤\n",
      "⎢    ⎥\n",
      "⎣0  1⎦\n"
     ]
    }
   ],
   "source": [
    "import sympy as sp\n",
    "a, b = sp.symbols('a b')\n",
    "A = sp.Matrix([[1,2], [a,b]])\n",
    "A_inv = sp.Inverse(A)\n",
    "sp.pprint(sp.simplify(A*A_inv))"
   ]
  },
  {
   "cell_type": "markdown",
   "metadata": {},
   "source": [
    "![QuestionThree](images/q3.png)"
   ]
  },
  {
   "cell_type": "code",
   "execution_count": 1,
   "metadata": {},
   "outputs": [
    {
     "name": "stdout",
     "output_type": "stream",
     "text": [
      "For N=4, the coefficient of x^(N-1) is 4\n"
     ]
    }
   ],
   "source": [
    "import sympy as sp\n",
    "\n",
    "def get_coefficient(N=4):\n",
    "    \"\"\"\n",
    "    This function returns the numeric coefficient value\n",
    "    of x^(N-1) for the expression (x+1)^N.\n",
    "    \"\"\"\n",
    "    x = sp.Symbol('x')\n",
    "    expression = sp.expand((x+1)**N)\n",
    "    # The following list of coefficients are for x, x^2, x^3, ...\n",
    "    coefficients = [expression.coeff(x**(n+1)) for n in range(N)]\n",
    "    # Return the coefficient for x^(N-1), since index start at 0, an offset of 2\n",
    "    return coefficients[N-2]\n",
    "\n",
    "N=4\n",
    "print(f\"For N={N}, the coefficient of x^(N-1) is {get_coefficient(N)}\")\n"
   ]
  },
  {
   "cell_type": "markdown",
   "metadata": {},
   "source": [
    "![QuestionFour](images/q4.png)"
   ]
  },
  {
   "cell_type": "code",
   "execution_count": 2,
   "metadata": {},
   "outputs": [
    {
     "name": "stdout",
     "output_type": "stream",
     "text": [
      "The N=2 derivate of f(x) at x=0.1 is 0.5155112835962654\n"
     ]
    }
   ],
   "source": [
    "import sympy as sp\n",
    "\n",
    "def derive(N=2, x=0.1):\n",
    "    \"\"\"\n",
    "    This function performs the Nth derivative of the function:\n",
    "    f(x) = x^3sin(x^2+1) and returns the float value at a given\n",
    "    x parameter.\n",
    "    \"\"\"\n",
    "    X = sp.Symbol('x')\n",
    "    expression = (X**3)*sp.sin((X**2) + 1)\n",
    "    derivative = sp.diff(expression, X, N)\n",
    "    numeric = sp.lambdify(X, derivative, \"numpy\")(x)\n",
    "    return numeric\n",
    "\n",
    "N=2\n",
    "x=0.1\n",
    "print(f\"The N={N} derivate of f(x) at x={x} is {derive()}\")"
   ]
  },
  {
   "cell_type": "markdown",
   "metadata": {},
   "source": [
    "![QuestionFive](images/q5.png)"
   ]
  },
  {
   "cell_type": "code",
   "execution_count": 3,
   "metadata": {},
   "outputs": [
    {
     "data": {
      "text/latex": [
       "$\\displaystyle \\frac{x^{\\frac{11}{2}}}{5040} - \\frac{x^{\\frac{9}{2}}}{120} + \\frac{x^{\\frac{7}{2}}}{6} - x^{\\frac{5}{2}} + \\frac{907199 x^{5}}{3628800} - \\frac{20159 x^{4}}{40320} - \\frac{x^{3}}{720} + \\frac{x^{2}}{24} - \\frac{x}{2} + 1$"
      ],
      "text/plain": [
       "x**(11/2)/5040 - x**(9/2)/120 + x**(7/2)/6 - x**(5/2) + 907199*x**5/3628800 - 20159*x**4/40320 - x**3/720 + x**2/24 - x/2 + 1"
      ]
     },
     "execution_count": 3,
     "metadata": {},
     "output_type": "execute_result"
    }
   ],
   "source": [
    "import sympy as sp\n",
    "x = sp.Symbol('x')\n",
    "sp.series(sp.cos(sp.Pow(x,2) + sp.sqrt(x)), x, n=6, x0=0, dir=\"+\").removeO()"
   ]
  },
  {
   "cell_type": "markdown",
   "metadata": {},
   "source": [
    "![QuestionSix](images/q6.png)"
   ]
  },
  {
   "cell_type": "code",
   "execution_count": 4,
   "metadata": {},
   "outputs": [
    {
     "name": "stdout",
     "output_type": "stream",
     "text": [
      "   -2\n",
      "4⋅ℯ  \n",
      "─────\n",
      "   2 \n",
      "  a  \n"
     ]
    }
   ],
   "source": [
    "import sympy as sp\n",
    "\n",
    "x, y = sp.symbols('x y')\n",
    "a = sp.Symbol('a', integer=False, positive=True)\n",
    "\n",
    "expression = (x**2)*sp.exp(-a*x)\n",
    "# Find where the slope is zero.\n",
    "slope = sp.Eq(y, sp.diff(expression, x, 1))\n",
    "critical_points = sp.solve(slope.subs(y, 0), x)\n",
    "# Second derivative test, if f''(c) < 0, then a maximum occurs at \n",
    "# the critical point.\n",
    "second_derivative = sp.Eq(y, sp.diff(expression, x, 2))\n",
    "\n",
    "for cp in critical_points:\n",
    "    if sp.solve(second_derivative.subs(x, cp), y)[0] < 0:\n",
    "        maximum = sp.solve(sp.Eq(y, expression.subs(x, cp)), y)     \n",
    "sp.pprint(maximum[0])"
   ]
  },
  {
   "cell_type": "markdown",
   "metadata": {},
   "source": [
    "![QuestionSeven](images/q7.png)"
   ]
  },
  {
   "cell_type": "code",
   "execution_count": 1,
   "metadata": {},
   "outputs": [
    {
     "name": "stdout",
     "output_type": "stream",
     "text": [
      "Maximum point occurs at (x,y,z) = (4/3, 2/3, exp(4/3))\n"
     ]
    },
    {
     "data": {
      "image/png": "[encoded data removed]",
      "text/plain": [
       "<Figure size 432x288 with 1 Axes>"
      ]
     },
     "metadata": {
      "needs_background": "light"
     },
     "output_type": "display_data"
    }
   ],
   "source": [
    "import sympy as sp\n",
    "\n",
    "# Part 1\n",
    "x, y, f = sp.symbols('x y f', real=True)\n",
    "expression = sp.exp(-x**2 + 2*x - y**2 + x*y)\n",
    "\n",
    "# Find the partial derivates with respect to x and y.\n",
    "partial_x = sp.diff(expression, x)\n",
    "partial_y = sp.diff(expression, y)\n",
    "# x in relation to y as an equation used for substitution.\n",
    "x_expression = sp.solve(sp.Eq(f, partial_x).subs(f, partial_y), x)\n",
    "# Find the critical point.\n",
    "critical_y = sp.solve(sp.Eq(0, partial_y).subs(x, x_expression[0]), y)\n",
    "critical_x = sp.solve(sp.Eq(0, partial_x).subs(y, critical_y[0]), x)\n",
    "# Find the maximum.\n",
    "maximum = sp.solve(sp.Eq(f, expression).subs(x, critical_x[0])\n",
    "                                       .subs(y, critical_y[0]), f)\n",
    "print(f\"Maximum point occurs at (x,y,z) = {(critical_x[0], critical_y[0], maximum[0])}\")\n",
    "\n",
    "# Part 2\n",
    "import numpy as np\n",
    "import matplotlib.pyplot as plt\n",
    "\n",
    "x = np.linspace(-2, 4, 200)\n",
    "y = np.linspace(-2, 4, 200)\n",
    "# Creating 2-D grid of features\n",
    "[X, Y] = np.meshgrid(x, y)\n",
    "\n",
    "f = np.exp(-np.square(X) + 2*X - np.square(Y) + X*Y)\n",
    "fig, ax = plt.subplots(1, 1)\n",
    "\n",
    "# plots contour lines\n",
    "ax.contour(X, Y, f)\n",
    "plt.plot(critical_x, critical_y, marker=\"o\", markersize=7, markerfacecolor=\"red\")\n",
    "ax.set_title('Visualization of the Maximum Point')\n",
    "ax.set_xlabel('x')\n",
    "ax.set_ylabel('y')\n",
    "plt.show()"
   ]
  }
 ],
 "metadata": {
  "kernelspec": {
   "display_name": "Python 3",
   "language": "python",
   "name": "python3"
  },
  "language_info": {
   "codemirror_mode": {
    "name": "ipython",
    "version": 3
   },
   "file_extension": ".py",
   "mimetype": "text/x-python",
   "name": "python",
   "nbconvert_exporter": "python",
   "pygments_lexer": "ipython3",
   "version": "3.9.0"
  },
  "orig_nbformat": 4
 },
 "nbformat": 4,
 "nbformat_minor": 2
}
