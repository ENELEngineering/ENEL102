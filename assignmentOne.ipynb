{
 "cells": [
  {
   "cell_type": "markdown",
   "metadata": {},
   "source": [
    "\n",
    "![QuestionOne](images/q1.png)"
   ]
  },
  {
   "cell_type": "code",
   "execution_count": 1,
   "metadata": {},
   "outputs": [
    {
     "name": "stdout",
     "output_type": "stream",
     "text": [
      "x = 33.40807559372164\n"
     ]
    }
   ],
   "source": [
    "import math\n",
    "x = sum([(k**2)*math.sin(0.1*(k**2)) for k in range(-3,5)])\n",
    "print(f\"{x = }\")"
   ]
  },
  {
   "cell_type": "markdown",
   "metadata": {},
   "source": [
    "![QuestionTwo](images/q2.png)"
   ]
  },
  {
   "cell_type": "code",
   "execution_count": 2,
   "metadata": {},
   "outputs": [
    {
     "name": "stdout",
     "output_type": "stream",
     "text": [
      "x = 56.67140841573445\n"
     ]
    }
   ],
   "source": [
    "import math\n",
    "x = sum([sum([math.sqrt(j)*(k**2)*math.sin(0.1*((k-j)**2)) for k in range(-3, 5)]) for j in range(1, 4)])\n",
    "print(f\"{x = }\")"
   ]
  },
  {
   "cell_type": "markdown",
   "metadata": {},
   "source": [
    "![QuestionThree](images/q3.png)"
   ]
  },
  {
   "cell_type": "code",
   "execution_count": 2,
   "metadata": {},
   "outputs": [
    {
     "name": "stdout",
     "output_type": "stream",
     "text": [
      "v = 0.9999999977333676\n"
     ]
    }
   ],
   "source": [
    "import math\n",
    "x = math.sqrt(3)\n",
    "y = 0.3*(x**2) + math.sqrt(x)\n",
    "z = math.sqrt(math.e) + x - math.log(x) - math.log(x, 10)\n",
    "v = math.sqrt(math.tanh(x*y*z))\n",
    "print(f\"{v = }\")"
   ]
  },
  {
   "cell_type": "markdown",
   "metadata": {},
   "source": [
    "![QuestionFour](images/q4.png)"
   ]
  },
  {
   "cell_type": "code",
   "execution_count": 5,
   "metadata": {},
   "outputs": [
    {
     "data": {
      "image/png": "[encoded data removed]",
      "text/plain": [
       "<Figure size 432x288 with 1 Axes>"
      ]
     },
     "metadata": {
      "needs_background": "light"
     },
     "output_type": "display_data"
    }
   ],
   "source": [
    "import matplotlib.pyplot as plt\n",
    "import numpy as np\n",
    "\n",
    "# There was a typo in the question should be from 0 to 4 with 500 points. \n",
    "x = np.linspace(0, 4, 500) \n",
    "y = np.tanh(x)\n",
    "\n",
    "plt.plot(x, y)\n",
    "plt.xlabel('x')\n",
    "plt.ylabel('tanh(x)')\n",
    "plt.title('The tanh function.')\n",
    "plt.grid()\n",
    "plt.show()"
   ]
  },
  {
   "cell_type": "markdown",
   "metadata": {},
   "source": [
    "![QuestionFive](images/q5.png)"
   ]
  },
  {
   "cell_type": "code",
   "execution_count": 12,
   "metadata": {},
   "outputs": [
    {
     "name": "stdout",
     "output_type": "stream",
     "text": [
      "Part A:\n",
      "magnitude squared of z = 1378.6424627693336\n",
      "Part B:\n",
      "m = array([1.68286618e-04, 3.71079506e+01, 1.28158603e+00])\n",
      "p = array([-2.03336529, -0.24497866,  2.01532946])\n"
     ]
    }
   ],
   "source": [
    "import numpy as np\n",
    "\n",
    "x = -4 + 1j\n",
    "y = 3j\n",
    "z = [pow(x,y), x*(pow(y,2)), pow(np.e, (np.sqrt(x)))]\n",
    "\n",
    "print(\"Part A:\")\n",
    "mag_square = sum([(np.abs(i)**2) for i in z])\n",
    "print(f\"magnitude squared of z = {mag_square}\")\n",
    "print(\"Part B:\")\n",
    "\n",
    "m = np.abs(z)\n",
    "print(f\"{m = }\")\n",
    "p = np.angle(z)\n",
    "print(f\"{p = }\")"
   ]
  },
  {
   "cell_type": "markdown",
   "metadata": {},
   "source": [
    "![QuestionSix](images/q6.png)"
   ]
  },
  {
   "cell_type": "code",
   "execution_count": 23,
   "metadata": {},
   "outputs": [
    {
     "name": "stdout",
     "output_type": "stream",
     "text": [
      "y = array([[  75,  144,  125],\n",
      "       [ 614, 1056,  958],\n",
      "       [ 221,  380,  367]])\n"
     ]
    }
   ],
   "source": [
    "import numpy as np\n",
    "x = np.array([[1,2,-3], [4,8,8], [2,2,4]])\n",
    "y = x + np.matmul(np.transpose(x), x) + np.linalg.matrix_power(x,3)\n",
    "print(f\"{y = }\")"
   ]
  },
  {
   "cell_type": "markdown",
   "metadata": {},
   "source": [
    "![QuestionSeven](images/q7.png)"
   ]
  },
  {
   "cell_type": "code",
   "execution_count": 12,
   "metadata": {},
   "outputs": [
    {
     "name": "stdout",
     "output_type": "stream",
     "text": [
      "x = array([ 0.4, -0. , -0.2,  0. , -0. , -0. ])\n"
     ]
    }
   ],
   "source": [
    "import numpy as np\n",
    "A = np.array([[1,2,-3], [4,8,8], [2,2,4]])\n",
    "B = np.array([[5,5,-3], [4,8,8], [2,2,4]])\n",
    "zeros = np.zeros((3,3)).astype(np.int32)\n",
    "x = np.linalg.solve(\n",
    "    np.vstack((np.hstack((A, B)), np.hstack((zeros, A)))), \n",
    "    np.array([1,0,0,0,0,0]))\n",
    "print(f\"{x = }\")"
   ]
  },
  {
   "cell_type": "markdown",
   "metadata": {},
   "source": [
    "![QuestionEight](images/q8.png)"
   ]
  },
  {
   "cell_type": "code",
   "execution_count": 27,
   "metadata": {},
   "outputs": [
    {
     "name": "stdout",
     "output_type": "stream",
     "text": [
      "z = array([[    52380,  -4229820],\n",
      "       [ -4229820, 639094860]])\n"
     ]
    }
   ],
   "source": [
    "import numpy as np\n",
    "x = np.linspace(-50, 30, 81).astype(np.int32)\n",
    "y = 3*np.square(x) + 2\n",
    "Q = np.array([x, y])\n",
    "z = np.matmul(Q, Q.transpose())\n",
    "print(f\"{z = }\")"
   ]
  },
  {
   "cell_type": "markdown",
   "metadata": {},
   "source": [
    "![QuestionNine](images/q9.png)"
   ]
  },
  {
   "cell_type": "code",
   "execution_count": 1,
   "metadata": {},
   "outputs": [
    {
     "name": "stdout",
     "output_type": "stream",
     "text": [
      "Q = 375.51698748956505\n"
     ]
    }
   ],
   "source": [
    "import numpy as np\n",
    "u = np.array([-3, 4, -2])\n",
    "v = np.array([2, -5, -4])\n",
    "w = np.array([1, -1, -1])\n",
    "Q = np.square(np.dot(u,v)) + np.linalg.norm(np.cross(np.cross(u, v), w))\n",
    "print(f\"{Q = }\")"
   ]
  },
  {
   "cell_type": "markdown",
   "metadata": {},
   "source": [
    "![QuestionTen](images/q10.png)"
   ]
  },
  {
   "cell_type": "code",
   "execution_count": 1,
   "metadata": {},
   "outputs": [
    {
     "name": "stdout",
     "output_type": "stream",
     "text": [
      "Q = array([[ 0.5       , -9.71428571, -7.        ],\n",
      "       [ 0.5       ,  7.85714286,  2.        ],\n",
      "       [ 0.5       ,  0.        ,  5.        ]])\n"
     ]
    }
   ],
   "source": [
    "import numpy as np\n",
    "X = np.array([[1,2,3], [0,7,7], [1,2,1]])\n",
    "Y = np.array([[2,2,3], [7,6,0], [1,2,1]])\n",
    "Q = np.matmul(np.linalg.inv(X), Y + np.square(X))\n",
    "print(f\"{Q = }\")"
   ]
  },
  {
   "cell_type": "markdown",
   "metadata": {},
   "source": [
    "![QuestionEleven](images/q11.png)"
   ]
  },
  {
   "cell_type": "code",
   "execution_count": 18,
   "metadata": {},
   "outputs": [
    {
     "name": "stdout",
     "output_type": "stream",
     "text": [
      "Q = array([  3.85294118, -12.97058824,   0.55882353])\n"
     ]
    }
   ],
   "source": [
    "\"\"\"\n",
    "4x + y + z = 3\n",
    "2x + y + 13z = 2\n",
    "3x - z = 11\n",
    "================\n",
    "[4, 1,  1][x]   [3]\n",
    "[2, 1, 13][y] = [2]\n",
    "[3, 0, -1][z]   [11]\n",
    "\"\"\"\n",
    "import numpy as np\n",
    "Q = np.linalg.solve(np.array([[4,1,1], [2,1,13], [3,0,-1]]), np.array([3,2,11]))\n",
    "print(f\"{Q = }\")"
   ]
  },
  {
   "cell_type": "markdown",
   "metadata": {},
   "source": [
    "![QuestionTwelve](images/q12.png)"
   ]
  },
  {
   "cell_type": "code",
   "execution_count": 19,
   "metadata": {},
   "outputs": [
    {
     "data": {
      "image/png": "[encoded data removed]",
      "text/plain": [
       "<Figure size 432x288 with 1 Axes>"
      ]
     },
     "metadata": {
      "needs_background": "light"
     },
     "output_type": "display_data"
    }
   ],
   "source": [
    "import matplotlib.pyplot as plt\n",
    "import numpy as np\n",
    "n = np.linspace(0,100,101).astype(np.int16)\n",
    "x = np.zeros(101)\n",
    "for i in n:\n",
    "    if i in [0, 1]:\n",
    "        x[i] = 0\n",
    "    else:\n",
    "        x[i] = np.sin(x[i-1]) - 0.3*x[i-2] + 1\n",
    "\n",
    "plt.plot(n[1:], x[1:])\n",
    "plt.xlabel('n (1..100)')\n",
    "plt.ylabel('x(n)')\n",
    "plt.title('x as a function of n.')\n",
    "plt.grid()\n",
    "plt.show()"
   ]
  }
 ],
 "metadata": {
  "kernelspec": {
   "display_name": "Python 3",
   "language": "python",
   "name": "python3"
  },
  "language_info": {
   "codemirror_mode": {
    "name": "ipython",
    "version": 3
   },
   "file_extension": ".py",
   "mimetype": "text/x-python",
   "name": "python",
   "nbconvert_exporter": "python",
   "pygments_lexer": "ipython3",
   "version": "3.9.0"
  },
  "orig_nbformat": 4
 },
 "nbformat": 4,
 "nbformat_minor": 2
}
